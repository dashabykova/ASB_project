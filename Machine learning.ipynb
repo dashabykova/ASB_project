{
 "cells": [
  {
   "cell_type": "code",
   "execution_count": null,
   "metadata": {},
   "outputs": [],
   "source": [
    "import pandas as pd\n",
    "import glob\n",
    "import re\n",
    "import numpy as np\n",
    "import math\n",
    "import sklearn\n",
    "from sklearn.utils import shuffle \n",
    "from sklearn.metrics import average_precision_score, roc_auc_score, f1_score, \\\n",
    "accuracy_score, roc_curve, precision_recall_curve\n",
    "from sklearn.ensemble import RandomForestClassifier"
   ]
  },
  {
   "cell_type": "code",
   "execution_count": null,
   "metadata": {},
   "outputs": [],
   "source": [
    "#Random feature importance to get feature importance threshold\n",
    "def random_feature_importance(data):\n",
    "    df_train = data[data.chr != 'chr1']\n",
    "    df_test = data[data.chr == 'chr1']\n",
    "    X_train = df_train.drop(columns = ['is_asb', 'chr'])\n",
    "    X_val = df_test.drop(columns = ['is_asb', 'chr'])\n",
    "    y_train = np.array(df_train.is_asb)\n",
    "    y_test = np.array(df_test.is_asb)\n",
    "    for column in X_train.columns:\n",
    "        X_train.loc[:, column] = shuffle(np.asarray(X_train[[column]]), random_state=1)\n",
    "    rndclf = RandomForestClassifier(random_state=1, n_estimators=500, n_jobs=36)\n",
    "    rndclf.fit(X_train, y_train)\n",
    "    mean_rnd_importance = np.mean(rndclf.feature_importances_)\n",
    "    max_rnd_importance = np.max(rndclf.feature_importances_)\n",
    "    return max_rnd_importance"
   ]
  },
  {
   "cell_type": "code",
   "execution_count": null,
   "metadata": {},
   "outputs": [],
   "source": [
    "#Preparing for building ROC and PR curves\n",
    "def curves(y_test, rfpred, val_chr):\n",
    "    fpr, tpr, thresholds = roc_curve(y_test, rfpred[:, 1], pos_label=1)\n",
    "    pr, rec, thresh_prauc = precision_recall_curve(y_test, rfpred[:, 1], pos_label=1)\n",
    "    df_temp1 = pd.DataFrame(data={'val_chr': val_chr, 'fpr': fpr, 'tpr': tpr, \n",
    "                                    'thresholds_roc': thresholds})\n",
    "    df_temp2 = pd.DataFrame(data={'val_chr': val_chr, 'precision':pr[:-1], 'recall':rec[:-1], \n",
    "                                    'thresholds_prauc': thresh_prauc})\n",
    "    return df_temp1, df_temp2"
   ]
  },
  {
   "cell_type": "code",
   "execution_count": null,
   "metadata": {},
   "outputs": [],
   "source": [
    "#Cross validation for individual model(one chromosome - test, all others - train)\n",
    "def cross_validation_random_forest(data, rforest_name, roc_name, pr_name):\n",
    "    df_roc = pd.DataFrame()\n",
    "    df_pr = pd.DataFrame()\n",
    "    rforest_file = open(rforest_name, 'w')\n",
    "    header = '\\t'.join(['val_chr', 'roc_auc', 'f1', 'accuracy', 'pr_auc', 'important_features', 'feature_scores'])\n",
    "    rforest_file.write(header + '\\n')\n",
    "    max_rnd_importance = random_feature_importance(data)\n",
    "    for i in range(1, 23):\n",
    "        val_chr = 'chr' + str(i)\n",
    "        df_train = data[data.chr != val_chr]\n",
    "        df_test = data[data.chr == val_chr]\n",
    "        if (len(df_test) == 0):\n",
    "            continue\n",
    "        X_train = df_train.drop(columns = ['is_asb', 'chr'])\n",
    "        X_val = df_test.drop(columns = ['is_asb','chr'])\n",
    "        y_train = np.array(df_train.is_asb)\n",
    "        y_test = np.array(df_test.is_asb)\n",
    "        if len(np.unique(y_test)) == 1:\n",
    "            continue\n",
    "        clf = RandomForestClassifier(n_estimators=500, random_state=1, n_jobs=36)\n",
    "        clf.fit(X_train, y_train)\n",
    "        rfpred = clf.predict_proba(X_val)\n",
    "        pred_classes = clf.predict(X_val)\n",
    "        important_features = X_train.columns[np.where(clf.feature_importances_ > max_rnd_importance)]\n",
    "        important_features_scores = clf.feature_importances_[np.where(clf.feature_importances_ > max_rnd_importance)]\n",
    "        roc_auc = roc_auc_score(y_test, rfpred[:, 1])\n",
    "        f1 = f1_score(y_test, pred_classes)\n",
    "        accuracy = accuracy_score(y_test, pred_classes)\n",
    "        prscore = average_precision_score(y_test, rfpred[:, 1])\n",
    "        string_scores = [str(s) for s in [roc_auc, f1, accuracy, prscore]]\n",
    "        string_feature_scores = [str(s) for s in important_features_scores]\n",
    "        rforest_file.write(val_chr + '\\t' + '\\t'.join(string_scores) + '\\t' + ';'.join(important_features) + '\\t' + ';'.join(string_feature_scores) + '\\n')\n",
    "        df_temp1, df_temp2 = curves(y_test, rfpred, val_chr)\n",
    "        df_roc = df_roc.append(df_temp1)\n",
    "        df_pr = df_pr.append(df_temp2)\n",
    "    rforest_file.close()\n",
    "    df_roc.to_csv(roc_name, sep='\\t', index=False)\n",
    "    df_pr.to_csv(pr_name, sep='\\t', index=False)\n",
    "    return 'Done'"
   ]
  },
  {
   "cell_type": "code",
   "execution_count": null,
   "metadata": {},
   "outputs": [],
   "source": [
    "#Individual RnadomForest\n",
    "def individual_RF(data_list, data_type='TFs'):\n",
    "    for o in data_list:\n",
    "        infilename = data_type + '/' + o + '.tsv'\n",
    "        data = pd.read_csv(infilename, sep='\\t')\n",
    "        data.drop(columns = ['ID', 'name', 'pos', 'ref', 'alt'], inplace=True)\n",
    "        #outfiles names\n",
    "        filename = data_type + '_result/' + o + '_random_forest.tsv'\n",
    "        roc_name = data_type + '_result/' + o + '_roc_curve.tsv'\n",
    "        pr_name = data_type + '_result/' + o + '_pr_curve.tsv'\n",
    "        print('Working with ' + o)\n",
    "        cross_validation_random_forest(data, filename, roc_name, pr_name)"
   ]
  },
  {
   "cell_type": "markdown",
   "metadata": {},
   "source": [
    "## Running individual models"
   ]
  },
  {
   "cell_type": "code",
   "execution_count": null,
   "metadata": {},
   "outputs": [],
   "source": [
    "#Individual RandomForest fot top ten trancription factors\n",
    "individual_RF(['CTCF', 'FOXA1', 'ANDR', 'ESR1', 'FOXK2', 'SPI1', 'STAT1', 'IKZF1', 'RAD21', 'CEBPB'])"
   ]
  },
  {
   "cell_type": "code",
   "execution_count": null,
   "metadata": {},
   "outputs": [],
   "source": [
    "#Individual RandomForest fot top ten cell types\n",
    "individual_RF(['K562__myelogenous_leukemia_', 'GM12878__female_B-cells_', \n",
    "               'HEK293__embryonic_kidney_', 'MCF7__Invasive_ductal_breast_carcinoma_', \n",
    "               'HepG2__hepatoblastoma_', 'foreskin_keratinocyte','A549__lung_carcinoma_', \n",
    "               'LNCaP__prostate_carcinoma_', 'VCaP__prostate_carcinoma_', 'CD14+_monocytes'], data_type='CLs')"
   ]
  },
  {
   "cell_type": "markdown",
   "metadata": {},
   "source": [
    "## Running general models"
   ]
  },
  {
   "cell_type": "code",
   "execution_count": null,
   "metadata": {},
   "outputs": [],
   "source": [
    "#Cross validation for global model\n",
    "def global_RF(data, name_list, data_list, data_type='TFs'):\n",
    "    for i in range(1, 23):\n",
    "        val_chr = 'chr' + str(i)\n",
    "        df_train = data[data.chr != val_chr]\n",
    "        X_train = df_train.drop(columns = ['is_asb', 'chr'])\n",
    "        y_train = np.array(df_train.is_asb)\n",
    "        clf = RandomForestClassifier(n_estimators=500, random_state=1, n_jobs=36)\n",
    "        clf.fit(X_train, y_train)\n",
    "        for o_name, o_data in zip(name_list, data_list):\n",
    "            df_test = o_data[o_data.chr == val_chr]\n",
    "            y_test = np.array(df_test.is_asb)\n",
    "            if len(np.unique(y_test)) < 2:\n",
    "                continue\n",
    "            X_val = df_test.drop(columns = ['is_asb','chr'])\n",
    "            rfpred = clf.predict_proba(X_val)\n",
    "            roc_auc = roc_auc_score(y_test, rfpred[:, 1])\n",
    "            pr_score = average_precision_score(y_test, rfpred[:, 1])\n",
    "            filename = data_type + '_result/' + o_name + '_combined.tsv'\n",
    "            with open(filename, 'a') as f:\n",
    "                f.write(val_chr + '\\t' + str(roc_auc) + '\\t' + str(pr_score) + '\\n')\n",
    "            df_roc, df_pr = curves(y_test, rfpred, val_chr)\n",
    "            filename_roc = data_type + '_result/' + o_name + '_combined_roc.tsv'\n",
    "            filename_pr = data_type + '_result/' + o_name + '_combined_pr.tsv'\n",
    "            df_roc.to_csv(filename_roc, sep='\\t', index=False, mode='a', header=None)\n",
    "            df_pr.to_csv(filename_pr, sep='\\t', index=False, mode='a', header=None)\n",
    "        print(val_chr + ' done')\n",
    "    \n",
    "    "
   ]
  },
  {
   "cell_type": "code",
   "execution_count": null,
   "metadata": {},
   "outputs": [],
   "source": [
    "data = pd.read_csv('deepsea_data_TF_220620.tsv', sep='\\t')\n",
    "data.drop(columns = ['name', 'ref', 'alt', 'pos'], inplace=True)"
   ]
  },
  {
   "cell_type": "code",
   "execution_count": null,
   "metadata": {},
   "outputs": [],
   "source": [
    "tf_list = ['CTCF', 'FOXA1', 'ANDR', 'ESR1', 'FOXK2', 'SPI1', 'STAT1', 'IKZF1', 'RAD21', 'CEBPB']\n",
    "tf_data_list = [pd.read_csv('TFs/' + tf + '.tsv', sep='\\t') for tf in tf_list]\n",
    "tf_data_list = [df.drop(columns = ['ID', 'name', 'pos', 'ref', 'alt'], inplace=True) for df in tf_data_list]"
   ]
  },
  {
   "cell_type": "code",
   "execution_count": null,
   "metadata": {},
   "outputs": [],
   "source": [
    "global_RF(data, tf_list, tf_data_list, data_type='TFs')"
   ]
  },
  {
   "cell_type": "code",
   "execution_count": null,
   "metadata": {},
   "outputs": [],
   "source": [
    "data = pd.read_csv('deepsea_data_CL_220620.tsv', sep='\\t')\n",
    "data.drop(columns = ['name', 'ref', 'alt', 'pos'], inplace=True)"
   ]
  },
  {
   "cell_type": "code",
   "execution_count": null,
   "metadata": {},
   "outputs": [],
   "source": [
    "cl_list = ['K562__myelogenous_leukemia_', 'GM12878__female_B-cells_', \n",
    "               'HEK293__embryonic_kidney_', 'MCF7__Invasive_ductal_breast_carcinoma_', \n",
    "               'HepG2__hepatoblastoma_', 'foreskin_keratinocyte','A549__lung_carcinoma_', \n",
    "               'LNCaP__prostate_carcinoma_', 'VCaP__prostate_carcinoma_', 'CD14+_monocytes']\n",
    "cl_data_list = [pd.read_csv('CLs/' + cl + '.tsv', sep='\\t') for cl in cl_list]\n",
    "cl_data_list = [df.drop(columns = ['ID', 'name', 'pos', 'ref', 'alt'], inplace=True) for df in cl_data_list]"
   ]
  },
  {
   "cell_type": "code",
   "execution_count": null,
   "metadata": {},
   "outputs": [],
   "source": [
    "global_RF(data, cl_list, cl_data_list, data_type='CLs')"
   ]
  },
  {
   "cell_type": "code",
   "execution_count": null,
   "metadata": {},
   "outputs": [],
   "source": []
  },
  {
   "cell_type": "code",
   "execution_count": null,
   "metadata": {},
   "outputs": [],
   "source": []
  }
 ],
 "metadata": {
  "kernelspec": {
   "display_name": "Python 3",
   "language": "python",
   "name": "python3"
  },
  "language_info": {
   "codemirror_mode": {
    "name": "ipython",
    "version": 3
   },
   "file_extension": ".py",
   "mimetype": "text/x-python",
   "name": "python",
   "nbconvert_exporter": "python",
   "pygments_lexer": "ipython3",
   "version": "3.7.4"
  }
 },
 "nbformat": 4,
 "nbformat_minor": 2
}
